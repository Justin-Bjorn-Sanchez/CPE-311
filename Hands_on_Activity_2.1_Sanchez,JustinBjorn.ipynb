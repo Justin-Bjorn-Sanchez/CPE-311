{
  "nbformat": 4,
  "nbformat_minor": 0,
  "metadata": {
    "colab": {
      "provenance": [],
      "include_colab_link": true
    },
    "kernelspec": {
      "name": "python3",
      "display_name": "Python 3"
    },
    "language_info": {
      "name": "python"
    }
  },
  "cells": [
    {
      "cell_type": "markdown",
      "metadata": {
        "id": "view-in-github",
        "colab_type": "text"
      },
      "source": [
        "<a href=\"https://colab.research.google.com/github/Justin-Bjorn-Sanchez/CPE-311/blob/main/Hands_on_Activity_2.1_Sanchez%2CJustinBjorn.ipynb\" target=\"_parent\"><img src=\"https://colab.research.google.com/assets/colab-badge.svg\" alt=\"Open In Colab\"/></a>"
      ]
    },
    {
      "cell_type": "markdown",
      "source": [
        "\n",
        "**TOWER OF HANOI**"
      ],
      "metadata": {
        "id": "FLfaPjuJnGeK"
      }
    },
    {
      "cell_type": "markdown",
      "source": [
        "Top-Bottom, breakdown to how make the code\n",
        "\n",
        "- Def TOH\n",
        "\n",
        "- n for number of disk\n",
        "\n",
        "- Start pole(Origin), Middle pole(Auxillery), Final pole(Destination)\n",
        "\n",
        "- Make sure n-1 go to middle first so nth go to final pole,\n",
        "\n",
        "- Count of moves formula 2^n-1\n",
        "\n",
        "- define number of disk, changable\n",
        "\n",
        "- print how many total moves it takes.\n",
        "\n",
        "\n",
        "\n",
        "\n",
        "\n"
      ],
      "metadata": {
        "id": "KsvSHDlfnLQ5"
      }
    },
    {
      "cell_type": "code",
      "execution_count": 8,
      "metadata": {
        "colab": {
          "base_uri": "https://localhost:8080/"
        },
        "id": "PDN_MGnqmwgB",
        "outputId": "f7bcb728-a6dc-4d2c-f26d-c00a590981b6"
      },
      "outputs": [
        {
          "output_type": "stream",
          "name": "stdout",
          "text": [
            "Move disk 1 from A to C\n",
            "Move disk 2 from A to B\n",
            "Move disk 1 from C to B\n",
            "Move disk 3 from A to C\n",
            "Move disk 1 from B to A\n",
            "Move disk 2 from B to C\n",
            "Move disk 1 from A to C\n",
            "\n",
            "Total moves: 7\n"
          ]
        }
      ],
      "source": [
        "def TOH(n, Start, Final, Middle, move_count=[0]):\n",
        "    # Base case\n",
        "    if n == 1:\n",
        "        move_count[0] += 1\n",
        "        print(f\"Move disk 1 from {Start} to {Final}\")\n",
        "        return\n",
        "\n",
        "    #Move n-1 disks from Start to Middle, using Final as auxiliary\n",
        "    TOH(n-1, Start, Middle, Final, move_count)\n",
        "\n",
        "    #Move the largest(nth) disk from Start to Final\n",
        "    move_count[0] += 1\n",
        "    print(f\"Move disk {n} from {Start} to {Final}\")\n",
        "\n",
        "    #Move n-1 disks from Middle to Final, using Start as auxiliary\n",
        "    TOH(n-1, Middle, Final, Start, move_count)\n",
        "\n",
        "# Define the number of disks\n",
        "Disks = 3  #Changable number\n",
        "\n",
        "# Start the solution\n",
        "TOH(Disks, 'A', 'C', 'B')\n",
        "\n",
        "# Display total number of moves\n",
        "print(f\"\\nTotal moves: {2**Disks - 1}\")\n"
      ]
    },
    {
      "cell_type": "markdown",
      "source": [
        "**SUPPLEMENTARY ACTIVITY**\n",
        "\n",
        "**Explain the programming paradigms/techniques (like recursion or dynamic programming) that you used to solve the given problem.**\n",
        "\n",
        "-The program I made used recursion that moves n or the disks to be broken into smaller problems. Then I divided the problems into small tasks then solved them individually then combined it. The move count is to track the total number of recursive calls.\n",
        "\n",
        "\n",
        "**Provide screenshots of the techniques and provide a quick analysis.**\n",
        "\n",
        "-No need to provide screenshot because the code is here.\n",
        "\n",
        "-A quick anaylsis to this is that, learning recursive can be quite challenging since it was hard to understand at first. but after learning that it can somehow or on my own understanding, breaks the part down into smaller and solve the smaller parts then it can be quite easy to piece it together.\n",
        "\n",
        "\n"
      ],
      "metadata": {
        "id": "nD3ENc79zxDS"
      }
    }
  ]
}