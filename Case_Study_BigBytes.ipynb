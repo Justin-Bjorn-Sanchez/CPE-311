{
  "nbformat": 4,
  "nbformat_minor": 0,
  "metadata": {
    "colab": {
      "provenance": [],
      "authorship_tag": "ABX9TyMP814MTsoMrOMBJcVu7UWt",
      "include_colab_link": true
    },
    "kernelspec": {
      "name": "python3",
      "display_name": "Python 3"
    },
    "language_info": {
      "name": "python"
    }
  },
  "cells": [
    {
      "cell_type": "markdown",
      "metadata": {
        "id": "view-in-github",
        "colab_type": "text"
      },
      "source": [
        "<a href=\"https://colab.research.google.com/github/Justin-Bjorn-Sanchez/CPE-311/blob/main/Case_Study_BigBytes.ipynb\" target=\"_parent\"><img src=\"https://colab.research.google.com/assets/colab-badge.svg\" alt=\"Open In Colab\"/></a>"
      ]
    },
    {
      "cell_type": "code",
      "execution_count": null,
      "metadata": {
        "colab": {
          "base_uri": "https://localhost:8080/"
        },
        "id": "pnvU3KNEeD0h",
        "outputId": "26dd208e-6f29-4e1e-c2e1-64d46d584c8d"
      },
      "outputs": [
        {
          "output_type": "stream",
          "name": "stdout",
          "text": [
            "Enter the number of people: 25\n",
            "Cups of uncooked rice needed: 13\n",
            "Number of times the rice cooker needs to cook: 2\n"
          ]
        }
      ],
      "source": [
        "def Rice(func):\n",
        "    memo = {}\n",
        "    def wrapper(n):\n",
        "        if n not in memo:\n",
        "            memo[n] = func(n)\n",
        "        return memo[n]\n",
        "    return wrapper\n",
        "\n",
        "def calculate_rice_needed(people):\n",
        "    # Each person requires 1 cup of cooked rice, and 1 cup of uncooked rice makes 2 cups of cooked rice, always round up!!!\n",
        "    cups_of_cooked_rice_needed = people\n",
        "    cups_of_uncooked_rice_needed = (cups_of_cooked_rice_needed + 1) // 2\n",
        "    return cups_of_uncooked_rice_needed\n",
        "\n",
        "# Function to calculate how many times the rice cooker needs to cook!!!\n",
        "def calculate_rice_cooker_cycles(cups_of_uncooked_rice_needed):\n",
        "    rice_cooker_capacity = 8 #This is a 1.6L rice cooker\n",
        "    cooker_cycles = (cups_of_uncooked_rice_needed + rice_cooker_capacity - 1) // rice_cooker_capacity\n",
        "    return cooker_cycles\n",
        "\n",
        "# Displays the results and also include the user input\n",
        "def main():\n",
        "    people = int(input(\"Enter the number of people: \"))\n",
        "    cups_of_uncooked_rice_needed = calculate_rice_needed(people)\n",
        "    print(f\"Cups of uncooked rice needed: {cups_of_uncooked_rice_needed}\")\n",
        "\n",
        "    cooker_cycles = calculate_rice_cooker_cycles(cups_of_uncooked_rice_needed)\n",
        "    print(f\"Number of times the rice cooker needs to cook: {cooker_cycles}\")\n",
        "\n",
        "if __name__ == \"__main__\":\n",
        "    main()\n"
      ]
    }
  ]
}