{
 "cells": [
  {
   "cell_type": "markdown",
   "id": "dd543dd7-1cc7-43bd-a233-d33d415a03ac",
   "metadata": {},
   "source": [
    "Given a sequence of n real numbers A(1) ... A(n), \n",
    "determine a contiguous subsequence A(i) ... A(j) \n",
    "for which the sum of elements in the subsequence is maximized.\n",
    "\n",
    "Arrange numbers in the right sequence and give the sum"
   ]
  },
  {
   "cell_type": "code",
   "execution_count": 89,
   "id": "33dcaf67-a9d9-424f-b0d0-3dfbb6386568",
   "metadata": {},
   "outputs": [
    {
     "name": "stdout",
     "output_type": "stream",
     "text": [
      "The given are: 10 5\n",
      "The right order sequence is: 5 10\n",
      "The sum of the sequence is: 15\n"
     ]
    }
   ],
   "source": [
    "def sequence(a,b):\n",
    "    if a >= b:    \n",
    "     return b, a\n",
    "\n",
    "    if b >= a:\n",
    "     return a, b\n",
    "\n",
    "a= 10\n",
    "b= 5\n",
    "\n",
    "print(\"The given are:\",a,b)\n",
    "\n",
    "a1,b1 = sequence(a,b)\n",
    "\n",
    "print(\"The right order sequence is:\",a1,b1)\n",
    "\n",
    "sum = a + b\n",
    "print(\"The sum of the sequence is:\",sum)"
   ]
  },
  {
   "cell_type": "code",
   "execution_count": null,
   "id": "56d7fd47-83c9-42d0-b7f0-47dd18cf48fb",
   "metadata": {},
   "outputs": [],
   "source": []
  }
 ],
 "metadata": {
  "kernelspec": {
   "display_name": "Python 3 (ipykernel)",
   "language": "python",
   "name": "python3"
  },
  "language_info": {
   "codemirror_mode": {
    "name": "ipython",
    "version": 3
   },
   "file_extension": ".py",
   "mimetype": "text/x-python",
   "name": "python",
   "nbconvert_exporter": "python",
   "pygments_lexer": "ipython3",
   "version": "3.12.4"
  }
 },
 "nbformat": 4,
 "nbformat_minor": 5
}
