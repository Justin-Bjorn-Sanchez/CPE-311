{
  "cells": [
    {
      "cell_type": "markdown",
      "id": "f1c6ec95",
      "metadata": {
        "id": "f1c6ec95"
      },
      "source": [
        "# Hands-on Activity 2.1 : Dynamic Programming"
      ]
    },
    {
      "cell_type": "markdown",
      "id": "56dacba1",
      "metadata": {
        "id": "56dacba1"
      },
      "source": [
        "#### Objective(s):\n",
        "\n",
        "This activity aims to demonstrate how to use dynamic programming to solve problems."
      ]
    },
    {
      "cell_type": "markdown",
      "id": "e51f84e3",
      "metadata": {
        "id": "e51f84e3"
      },
      "source": [
        "#### Intended Learning Outcomes (ILOs):\n",
        "* Differentiate recursion method from dynamic programming to solve problems.\n",
        "* Demonstrate how to  solve real-world problems using dynamic programming\n"
      ]
    },
    {
      "cell_type": "markdown",
      "id": "39047b1a",
      "metadata": {
        "id": "39047b1a"
      },
      "source": [
        "#### Resources:\n",
        "* Jupyter Notebook\n"
      ]
    },
    {
      "cell_type": "markdown",
      "id": "cb5360c0",
      "metadata": {
        "id": "cb5360c0"
      },
      "source": [
        "#### Procedures:"
      ]
    },
    {
      "cell_type": "markdown",
      "id": "206a914c",
      "metadata": {
        "id": "206a914c"
      },
      "source": [
        "1. Create a code that demonstrate how to use recursion method to solve problem"
      ]
    },
    {
      "cell_type": "markdown",
      "id": "5744a876",
      "metadata": {
        "id": "5744a876"
      },
      "source": [
        "2. Create a program codes that demonstrate how to use dynamic programming to solve the same problem"
      ]
    },
    {
      "cell_type": "markdown",
      "id": "8e3f6572",
      "metadata": {
        "id": "8e3f6572"
      },
      "source": [
        "##### Question:\n",
        "Explain the difference of using the recursion from dynamic programming using the given sample codes to solve the same problem"
      ]
    },
    {
      "cell_type": "markdown",
      "id": "b5a71b53",
      "metadata": {
        "id": "b5a71b53"
      },
      "source": [
        "Type your answer here:\n",
        "\n",
        "* Recursion solves a problem by breaking it into smaller parts, but it keeps solving the same small problems again and again, which makes it slow.  \n",
        "\n",
        "* Dynamic programming, however, remembers the answers to small problems and reuses them instead of solving them again. This saves time and makes the solution much faster!\n",
        "\n",
        "\n"
      ]
    },
    {
      "cell_type": "markdown",
      "id": "60074702",
      "metadata": {
        "id": "60074702"
      },
      "source": [
        "3. Create a sample program codes to simulate bottom-up dynamic programming"
      ]
    },
    {
      "cell_type": "code",
      "source": [
        "def fibonacci_dp(n):\n",
        "    fib = [0] * (n + 1)\n",
        "    fib[0] = 0\n",
        "    fib[1] = 1\n",
        "\n",
        "    for i in range(2, n + 1):\n",
        "        fib[i] = fib[i - 1] + fib[i - 2]\n",
        "\n",
        "    return fib[n]\n",
        "\n",
        "n = 10\n",
        "print(\"Fibonacci number at position\", n, \"is\", fibonacci_dp(n))\n"
      ],
      "metadata": {
        "colab": {
          "base_uri": "https://localhost:8080/",
          "height": 0
        },
        "id": "xNrSC1D-tBx6",
        "outputId": "deda93ea-567f-495a-dc87-45695449eb0a"
      },
      "id": "xNrSC1D-tBx6",
      "execution_count": 22,
      "outputs": [
        {
          "output_type": "stream",
          "name": "stdout",
          "text": [
            "Fibonacci number at position 10 is 55\n"
          ]
        }
      ]
    },
    {
      "cell_type": "markdown",
      "id": "e629eb89",
      "metadata": {
        "id": "e629eb89"
      },
      "source": [
        "4. Create a sample program codes that simulate tops-down dynamic programming"
      ]
    },
    {
      "cell_type": "code",
      "source": [
        "def fibonacci_memo(n, memo={}):\n",
        "    if n == 1:\n",
        "        return 0\n",
        "    if n == 2:\n",
        "        return 1\n",
        "    if n in memo:\n",
        "        return memo[n]\n",
        "\n",
        "    memo[n] = fibonacci_memo(n - 1, memo) + fibonacci_memo(n - 2, memo)\n",
        "    return memo[n]\n",
        "\n",
        "n = 10\n",
        "print(\"Fibonacci number at position\", n, \"is\", fibonacci_memo(n))\n"
      ],
      "metadata": {
        "colab": {
          "base_uri": "https://localhost:8080/",
          "height": 0
        },
        "id": "iMithXx5tZXm",
        "outputId": "7c01063e-4b70-4b59-da60-e5fb1e9980cb"
      },
      "id": "iMithXx5tZXm",
      "execution_count": 23,
      "outputs": [
        {
          "output_type": "stream",
          "name": "stdout",
          "text": [
            "Fibonacci number at position 10 is 34\n"
          ]
        }
      ]
    },
    {
      "cell_type": "markdown",
      "id": "c2e2434c",
      "metadata": {
        "id": "c2e2434c"
      },
      "source": [
        "#### Question:\n",
        " Explain the difference between bottom-up from top-down dynamic programming using the given sample codes"
      ]
    },
    {
      "cell_type": "markdown",
      "id": "ac97e063",
      "metadata": {
        "id": "ac97e063"
      },
      "source": [
        "Type your answer here:\n",
        "\n",
        "* Top-down starts from the big problem and breaks it into smaller ones, remembering answers so it doesn’t repeat work. It only solves what’s needed.  \n",
        "\n",
        "* Bottom-up starts from the smallest problems and builds the answer step by step, solving everything up to `n`.  \n",
        "\n",
        "* Both are fast, but top-down works like breaking things down, while bottom-up builds things up!\n",
        "\n",
        "\n",
        "\n",
        "\n"
      ]
    },
    {
      "cell_type": "markdown",
      "id": "f7a5bfbd",
      "metadata": {
        "id": "f7a5bfbd"
      },
      "source": [
        "0/1 Knapsack Problem\n",
        "\n",
        "* Analyze three different techniques to solve knapsacks problem\n",
        "1. Recursion\n",
        "2. Dynamic Programming\n",
        "3. Memoization"
      ]
    },
    {
      "cell_type": "code",
      "source": [
        "#sample code for knapsack problem using recursion\n",
        "def rec_knapSack(w, wt, val, n):\n",
        "\n",
        "  #base case\n",
        "  #defined as nth item is empty;\n",
        "  #or the capacity w is 0\n",
        "  if n == 0 or w == 0:\n",
        "    return 0\n",
        "\n",
        "  #if weight of the nth item is more than\n",
        "  #the capacity W, then this item cannot be included\n",
        "  #as part of the optimal solution\n",
        "  if(wt[n-1] > w):\n",
        "    return rec_knapSack(w, wt, val, n-1)\n",
        "\n",
        "  #return the maximum of the two cases:\n",
        "  # (1) include the nth item\n",
        "  # (2) don't include the nth item\n",
        "  else:\n",
        "    return max(\n",
        "        val[n-1] + rec_knapSack(\n",
        "            w-wt[n-1], wt, val, n-1),\n",
        "            rec_knapSack(w, wt, val, n-1)\n",
        "    )"
      ],
      "metadata": {
        "id": "15SVHF85_1Ji"
      },
      "id": "15SVHF85_1Ji",
      "execution_count": null,
      "outputs": []
    },
    {
      "cell_type": "code",
      "source": [
        "#To test:\n",
        "val = [60, 100, 120] #values for the items\n",
        "wt = [10, 20, 30] #weight of the items\n",
        "w = 50 #knapsack weight capacity\n",
        "n = len(val) #number of items\n",
        "\n",
        "rec_knapSack(w, wt, val, n)"
      ],
      "metadata": {
        "colab": {
          "base_uri": "https://localhost:8080/"
        },
        "id": "b1D3YRJ7cMqU",
        "outputId": "788d87c8-0d84-4dd6-dfcf-1206fa495812"
      },
      "id": "b1D3YRJ7cMqU",
      "execution_count": null,
      "outputs": [
        {
          "output_type": "execute_result",
          "data": {
            "text/plain": [
              "220"
            ]
          },
          "metadata": {},
          "execution_count": 27
        }
      ]
    },
    {
      "cell_type": "code",
      "source": [
        "#Dynamic Programming for the Knapsack Problem\n",
        "def DP_knapSack(w, wt, val, n):\n",
        "  #create the table\n",
        "  table = [[0 for x in range(w+1)] for x in range (n+1)]\n",
        "\n",
        "  #populate the table in a bottom-up approach\n",
        "  for i in range(n+1):\n",
        "    for w in range(w+1):\n",
        "      if i == 0 or w == 0:\n",
        "        table[i][w] = 0\n",
        "      elif wt[i-1] <= w:\n",
        "        table[i][w] = max(val[i-1] + table[i-1][w-wt[i-1]],\n",
        "                          table[i-1][w])\n",
        "  return table[n][w]"
      ],
      "metadata": {
        "id": "A8OU1sUJ_1ES"
      },
      "id": "A8OU1sUJ_1ES",
      "execution_count": null,
      "outputs": []
    },
    {
      "cell_type": "code",
      "source": [
        "#To test:\n",
        "val = [60, 100, 120]\n",
        "wt = [10, 20, 30]\n",
        "w = 50\n",
        "n = len(val)\n",
        "\n",
        "DP_knapSack(w, wt, val, n)"
      ],
      "metadata": {
        "colab": {
          "base_uri": "https://localhost:8080/"
        },
        "id": "GUNeEPHrd-N1",
        "outputId": "4829e602-248b-48f8-cbd3-e75c4d87d3b6"
      },
      "id": "GUNeEPHrd-N1",
      "execution_count": null,
      "outputs": [
        {
          "output_type": "execute_result",
          "data": {
            "text/plain": [
              "220"
            ]
          },
          "metadata": {},
          "execution_count": 29
        }
      ]
    },
    {
      "cell_type": "code",
      "source": [
        "#Sample for top-down DP approach (memoization)\n",
        "#initialize the list of items\n",
        "val = [60, 100, 120]\n",
        "wt = [10, 20, 30]\n",
        "w = 50\n",
        "n = len(val)\n",
        "\n",
        "#initialize the container for the values that have to be stored\n",
        "#values are initialized to -1\n",
        "calc =[[-1 for i in range(w+1)] for j in range(n+1)]\n",
        "\n",
        "\n",
        "def mem_knapSack(wt, val, w, n):\n",
        "  #base conditions\n",
        "  if n == 0 or w == 0:\n",
        "    return 0\n",
        "  if calc[n][w] != -1:\n",
        "    return calc[n][w]\n",
        "\n",
        "  #compute for the other cases\n",
        "  if wt[n-1] <= w:\n",
        "    calc[n][w] = max(val[n-1] + mem_knapSack(wt, val, w-wt[n-1], n-1),\n",
        "                     mem_knapSack(wt, val, w, n-1))\n",
        "    return calc[n][w]\n",
        "  elif wt[n-1] > w:\n",
        "    calc[n][w] = mem_knapSack(wt, val, w, n-1)\n",
        "    return calc[n][w]\n",
        "\n",
        "mem_knapSack(wt, val, w, n)"
      ],
      "metadata": {
        "id": "VgwTX-XT_0_h",
        "colab": {
          "base_uri": "https://localhost:8080/"
        },
        "outputId": "6f3c2cc6-01fc-433a-ae1e-cbb99976c028"
      },
      "id": "VgwTX-XT_0_h",
      "execution_count": null,
      "outputs": [
        {
          "output_type": "execute_result",
          "data": {
            "text/plain": [
              "220"
            ]
          },
          "metadata": {},
          "execution_count": 31
        }
      ]
    },
    {
      "cell_type": "markdown",
      "source": [
        "**Code Analysis**\n",
        "\n",
        "Type your answer here.\n",
        "\n",
        "This code shows three ways to solve the 0/1 Knapsack Problem:  \n",
        "\n",
        "1. Recursion (rec_knapSack) Tries all possibilities but repeats work, making it slow (O(2ⁿ)).  \n",
        "2. Bottom-up DP (DP_knapSack) Uses a table to build the solution step by step, faster (O(nW)).  \n",
        "3. Top-down DP (mem_knapSack) Uses recursion with memory to avoid repeating work, also O(nW).  \n",
        "\n",
        "Recursion is slow, while both DP methods are much faster"
      ],
      "metadata": {
        "id": "-UXSSblDcF8T"
      },
      "id": "-UXSSblDcF8T"
    },
    {
      "cell_type": "markdown",
      "source": [
        "## Seatwork 2.1"
      ],
      "metadata": {
        "id": "IGsdUGCUcTFd"
      },
      "id": "IGsdUGCUcTFd"
    },
    {
      "cell_type": "markdown",
      "id": "0462053d",
      "metadata": {
        "id": "0462053d"
      },
      "source": [
        "Task 1: Modify the three techniques to include additional criterion in the knapsack problems"
      ]
    },
    {
      "cell_type": "code",
      "execution_count": 8,
      "id": "ed2f6186",
      "metadata": {
        "id": "ed2f6186",
        "colab": {
          "base_uri": "https://localhost:8080/",
          "height": 0
        },
        "outputId": "4c41809c-81fd-4f75-89f6-b43f1334f106"
      },
      "outputs": [
        {
          "output_type": "stream",
          "name": "stdout",
          "text": [
            "420\n",
            "420\n",
            "420\n"
          ]
        }
      ],
      "source": [
        "#type your code here\n",
        "#Recursion\n",
        "def rec_knapSack(w, wt, val, imp, n):\n",
        "    if n == 0 or w == 0:\n",
        "        return 0\n",
        "    if wt[n-1] > w:\n",
        "        return rec_knapSack(w, wt, val, imp, n-1)\n",
        "    return max(\n",
        "        (val[n-1] * imp[n-1]) + rec_knapSack(w - wt[n-1], wt, val, imp, n-1),\n",
        "        rec_knapSack(w, wt, val, imp, n-1)\n",
        "    )\n",
        "\n",
        "val = [60, 100, 120]\n",
        "wt = [10, 20, 30]\n",
        "imp = [2, 3, 1]\n",
        "w = 50\n",
        "n = len(val)\n",
        "\n",
        "print(rec_knapSack(w, wt, val, imp, n))\n",
        "#Dynamic\n",
        "def DP_knapSack(w, wt, val, imp, n):\n",
        "    table = [[0 for _ in range(w+1)] for _ in range(n+1)]\n",
        "    for i in range(n+1):\n",
        "        for j in range(w+1):\n",
        "            if i == 0 or j == 0:\n",
        "                table[i][j] = 0\n",
        "            elif wt[i-1] <= j:\n",
        "                table[i][j] = max(\n",
        "                    (val[i-1] * imp[i-1]) + table[i-1][j-wt[i-1]],\n",
        "                    table[i-1][j]\n",
        "                )\n",
        "    return table[n][w]\n",
        "\n",
        "val = [60, 100, 120]\n",
        "wt = [10, 20, 30]\n",
        "imp = [2, 3, 1]\n",
        "w = 50\n",
        "n = len(val)\n",
        "\n",
        "print(DP_knapSack(w, wt, val, imp, n))\n",
        "#Memoization\n",
        "def mem_knapSack(wt, val, imp, w, n, calc):\n",
        "    if n == 0 or w == 0:\n",
        "        return 0\n",
        "    if calc[n][w] != -1:\n",
        "        return calc[n][w]\n",
        "    if wt[n-1] <= w:\n",
        "        calc[n][w] = max(\n",
        "            (val[n-1] * imp[n-1]) + mem_knapSack(wt, val, imp, w - wt[n-1], n-1, calc),\n",
        "            mem_knapSack(wt, val, imp, w, n-1, calc)\n",
        "        )\n",
        "    else:\n",
        "        calc[n][w] = mem_knapSack(wt, val, imp, w, n-1, calc)\n",
        "    return calc[n][w]\n",
        "\n",
        "val = [60, 100, 120]\n",
        "wt = [10, 20, 30]\n",
        "imp = [2, 3, 1]\n",
        "w = 50\n",
        "n = len(val)\n",
        "calc = [[-1 for _ in range(w+1)] for _ in range(n+1)]\n",
        "\n",
        "print(mem_knapSack(wt, val, imp, w, n, calc))\n"
      ]
    },
    {
      "cell_type": "markdown",
      "id": "d97e864e",
      "metadata": {
        "id": "d97e864e"
      },
      "source": [
        "Fibonacci Numbers"
      ]
    },
    {
      "cell_type": "code",
      "source": [
        "#IDK what to do here? wdym po by Fibonacci Numbers T-T"
      ],
      "metadata": {
        "id": "HoqkUdvj_2ZZ"
      },
      "id": "HoqkUdvj_2ZZ",
      "execution_count": null,
      "outputs": []
    },
    {
      "cell_type": "markdown",
      "id": "f44e88aa",
      "metadata": {
        "id": "f44e88aa"
      },
      "source": [
        "Task 2: Create a sample program that find the nth number of Fibonacci Series using Dynamic Programming"
      ]
    },
    {
      "cell_type": "code",
      "execution_count": 21,
      "id": "745871be",
      "metadata": {
        "id": "745871be",
        "colab": {
          "base_uri": "https://localhost:8080/",
          "height": 0
        },
        "outputId": "0e43be26-a164-40f4-fe6e-fb045049e473"
      },
      "outputs": [
        {
          "output_type": "stream",
          "name": "stdout",
          "text": [
            "Fibonacci number at position 10 is 55\n"
          ]
        }
      ],
      "source": [
        "def fibonacci_dp(n):\n",
        "    if n == 1:\n",
        "        return 0\n",
        "    if n == 2:\n",
        "        return 1\n",
        "\n",
        "    fib = [0] * (n + 1)\n",
        "    fib[1] = 1\n",
        "\n",
        "    for i in range(2, n + 1):\n",
        "        fib[i] = fib[i - 1] + fib[i - 2]\n",
        "\n",
        "    return fib[n]\n",
        "\n",
        "n = 10\n",
        "print(\"Fibonacci number at position\", n, \"is\", fibonacci_dp(n))"
      ]
    },
    {
      "cell_type": "markdown",
      "id": "070ddd75",
      "metadata": {
        "id": "070ddd75"
      },
      "source": [
        "## Supplementary Problem (HOA 2.1 Submission):\n",
        "* Choose a real-life problem\n",
        "* Use recursion and dynamic programming to solve the problem"
      ]
    },
    {
      "cell_type": "markdown",
      "source": [
        "**Problem is you have a number set of books and shows how many ways you can set it up side by side**"
      ],
      "metadata": {
        "id": "7LpHQx6MxgDd"
      },
      "id": "7LpHQx6MxgDd"
    },
    {
      "cell_type": "code",
      "execution_count": 11,
      "id": "86eef507",
      "metadata": {
        "id": "86eef507",
        "colab": {
          "base_uri": "https://localhost:8080/",
          "height": 0
        },
        "outputId": "36853a60-4826-4742-82d0-50e3686089db"
      },
      "outputs": [
        {
          "output_type": "stream",
          "name": "stdout",
          "text": [
            "Ways to arrange books: 8\n"
          ]
        }
      ],
      "source": [
        "def arrangeBooksRec(n):\n",
        "    if n == 0 or n == 1:\n",
        "        return 1\n",
        "    return arrangeBooksRec(n-1) + arrangeBooksRec(n-2)\n",
        "\n",
        "books = 5\n",
        "print(\"Ways to arrange books:\", arrangeBooksRec(books))"
      ]
    },
    {
      "cell_type": "code",
      "execution_count": 10,
      "id": "73b071b6",
      "metadata": {
        "id": "73b071b6",
        "colab": {
          "base_uri": "https://localhost:8080/",
          "height": 0
        },
        "outputId": "f31166b4-d124-4bd9-fb06-3c9d4c6e4cfb"
      },
      "outputs": [
        {
          "output_type": "stream",
          "name": "stdout",
          "text": [
            "Ways to arrange books: 8\n"
          ]
        }
      ],
      "source": [
        "def arrangeBooksDP(n):\n",
        "    dp = [0] * (n+1)\n",
        "    dp[0], dp[1] = 1, 1\n",
        "\n",
        "    for i in range(2, n+1):\n",
        "        dp[i] = dp[i-1] + dp[i-2]\n",
        "\n",
        "    return dp[n]\n",
        "\n",
        "books = 5\n",
        "print(\"Ways to arrange books:\", arrangeBooksDP(books))"
      ]
    },
    {
      "cell_type": "markdown",
      "id": "bb0ed6a9",
      "metadata": {
        "id": "bb0ed6a9"
      },
      "source": [
        "#### Conclusion"
      ]
    },
    {
      "cell_type": "markdown",
      "source": [
        "In this activity, I learned the difference between recursion and dynamic programming. Recursion is simple but slow, while dynamic programming is more efficient by storing previous results. Solving real-life problems helped me understand when to use each method. This improved my problem-solving skills and showed me the importance of optimization in programming."
      ],
      "metadata": {
        "id": "D47nYo91yQSt"
      },
      "id": "D47nYo91yQSt"
    }
  ],
  "metadata": {
    "kernelspec": {
      "display_name": "Python 3",
      "language": "python",
      "name": "python3"
    },
    "language_info": {
      "codemirror_mode": {
        "name": "ipython",
        "version": 3
      },
      "file_extension": ".py",
      "mimetype": "text/x-python",
      "name": "python",
      "nbconvert_exporter": "python",
      "pygments_lexer": "ipython3",
      "version": "3.7.10"
    },
    "colab": {
      "provenance": []
    }
  },
  "nbformat": 4,
  "nbformat_minor": 5
}